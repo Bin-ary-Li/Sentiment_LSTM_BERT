{
 "cells": [
  {
   "cell_type": "code",
   "execution_count": null,
   "metadata": {},
   "outputs": [],
   "source": [
    "import pickle\n",
    "import matplotlib.pyplot as plt \n",
    "from sklearn.manifold import TSNE\n",
    "\n",
    "with open(\"vocab.json\", \"r\") as f:\n",
    "    vocab = json.load(f)\n",
    "s = [\"monday\", \"tuesday\", \"wednesday\", \"thursday\", \"friday\",\n",
    "    \"saturday\", \"sunday\", \"orange\", \"apple\", \"banana\", \"mango\",\n",
    "    \"pineapple\", \"cherry\", \"fruit\"]\n",
    "words = [(i, vocab[i]) for i in s]\n",
    "\n",
    "with open(\"embedding\", \"rb\") as f:\n",
    "    word_embedding_matrix = pickle.load(f)\n",
    "\n",
    "model = TSNE(n_components = 2, random_state = 0)\n",
    "tsne_embedding = model.fit_transform(word_embedding_matrix)\n",
    "words_vectors = tsne_embedding[np.array([item[1][0] for item in words])]\n",
    "\n",
    "x = words_vectors[:,0]\n",
    "y = words_vectors[:,1]\n",
    "\n",
    "print(x[0],y[0])\n",
    "\n",
    "fig, ax = plt.subplots()\n",
    "ax.scatter(x, y)\n",
    "for i, txt in enumerate(s):\n",
    "    ax.annotate(txt, (x[i], y[i]))\n",
    "plt.show()"
   ]
  }
 ],
 "metadata": {
  "kernelspec": {
   "display_name": "Python 3",
   "language": "python",
   "name": "python3"
  },
  "language_info": {
   "codemirror_mode": {
    "name": "ipython",
    "version": 3
   },
   "file_extension": ".py",
   "mimetype": "text/x-python",
   "name": "python",
   "nbconvert_exporter": "python",
   "pygments_lexer": "ipython3",
   "version": "3.6.12"
  }
 },
 "nbformat": 4,
 "nbformat_minor": 4
}
